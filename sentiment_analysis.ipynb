{
 "cells": [
  {
   "cell_type": "markdown",
   "metadata": {},
   "source": [
    "# Sentiment Analysis\n",
    "\n",
    "We're able to crawl for headlines from various collections but I don't yet know how to see which publishers are available."
   ]
  },
  {
   "cell_type": "code",
   "execution_count": 1,
   "metadata": {},
   "outputs": [],
   "source": [
    "from fundus import PublisherCollection, Crawler, NewsMap\n",
    "from flair.data import Sentence\n",
    "from flair.models import TextClassifier\n",
    "from tqdm import tqdm"
   ]
  },
  {
   "cell_type": "code",
   "execution_count": 2,
   "metadata": {},
   "outputs": [
    {
     "name": "stdout",
     "output_type": "stream",
     "text": [
      "Fundus-Article:\n",
      "- Title: \"Armed men fire on Haiti hospital reopening, killing at least 2\"\n",
      "- Text:  \"At least two people were killed and others injured on Tuesday when armed men\n",
      "          opened fire on a group of journalists who gathered for a [...]\"\n",
      "- URL:    https://www.voanews.com/a/armed-men-fire-on-haiti-hospital-reopening-killing-at-least-2-/7912982.html\n",
      "- From:   Voice Of America (2024-12-24 22:35)\n",
      "Fundus-Article:\n",
      "- Title: \"Rams takeaways: Improving offensive line difference in win over Jets\"\n",
      "- Text:  \"EAST RUTHERFORD, N.J. — The Rams defeated the New York Jets, 19-9, on Sunday at\n",
      "          MetLife Stadium in East Rutherford, N.J.  What we learned from a [...]\"\n",
      "- URL:    https://www.latimes.com/sports/rams/story/2024-12-23/rams-offensive-line-dominates-jets\n",
      "- From:   Los Angeles Times (2024-12-23 11:00)\n"
     ]
    }
   ],
   "source": [
    "# initialize the crawler for news publishers based in the US\n",
    "crawler = Crawler(PublisherCollection.us)\n",
    "\n",
    "# crawl 2 articles and print\n",
    "for article in crawler.crawl(max_articles=2):\n",
    "    print(article)"
   ]
  },
  {
   "cell_type": "code",
   "execution_count": 3,
   "metadata": {},
   "outputs": [
    {
     "name": "stdout",
     "output_type": "stream",
     "text": [
      "Rams takeaways: Improving offensive line difference in win over Jets \n",
      "en\n"
     ]
    },
    {
     "data": {
      "text/plain": [
       "'EAST RUTHERFORD, N.J. — The Rams defeated the New York Jets, 19-9, on Sunday at MetLife Stadium in East Rutherford, N.J.\\n\\nWhat we learned from a victory that extended the Rams’ win streak to four games and improved their record to 9-6:\\n\\nMatthew Stafford wins duel with Aaron Rodgers\\n\\nRams quarterback Matthew Stafford tossed a go-ahead touchdown pass to Tyler Higbee in the fourth quarter and improved his record against Aaron Rodgers to 5-13.\\n\\nStafford completed 14 of 19 passes for 110 yards and a touchdown, with one interception.\\n\\nIn the second quarter, safety Tony Adams picked off a pass. The turnover ended at five Stafford’s career best streak of games without an interception.\\n\\n“I thought Matthew was efficient in the pass game,” coach Sean McVay said.\\n\\nStafford, a 16th-year pro, has passed for 20 touchdowns, with eight interceptions.\\n\\nRodgers completed 28 of 42 passes for 256 yards and a touchdown. He lost a fumble that led to Stafford’s touchdown pass to Higbee.\\n\\nOffensive line continues solid play\\n\\nFor the third game in a row, the Rams offensive line did not give up a sack.\\n\\nLeft tackle Alaric Jackson, left guard Steve Avila, center Beaux Limmer, right guard Kevin Dotson and right tackle Rob Havenstein kept Stafford upright and cleared the way for Kyren Williams to rush for 122 yards in 23 carries.\\n\\nWilliams rushed for more than 100 yards for the second game in a row.\\n\\n“Every time he steps on the grass, he’s a guy that loves to compete,” Stafford said. “We have quite a few guys on the offense that love to do it like that. It’s fun to be around him, but when he gets rolling and cooking like he was today, man, it’s a lot of fun.”\\n\\nRams defense tough on fourth downs\\n\\nRams linebacker Omar Speights and cornerbacks Ahkello Witherspoon and Darious Williams made huge plays that foiled fourth-down attempts by the Jets.\\n\\nIn the second quarter, Speights stopped running back Breece Hall for no gain, setting up Williams’ touchdown run.\\n\\nIn the third quarter, Witherspoon broke up a pass intended for Davante Adams in the end zone, giving the Rams the ball for a drive that ended with a field goal.\\n\\nIn the fourth quarter, Darious Williams broke up a pass that set up another field goal.\\n\\nCooper Kupp catches on again\\n\\nReceiver Cooper Kupp bounced back from a no-catch performance against the San Francisco 49ers with three catches for 24 yards against the Jets.\\n\\nPuka Nacua caught eight passes for 56 yards. Tutu Atwell had one catch for 12 yards and Higbee’s lone catch resulted in the go-ahead touchdown.\\n\\nReceiver Demarcus Robinson did not have a catch for the second game in a row.\\n\\nJoshua Karty comes back from missed PAT\\n\\nRams kicker Joshua Karty’s day did not start well.\\n\\nAfter the Rams scored a touchdown to tie the score, 6-6, Karty missed the extra-point attempt.\\n\\nBut Karty came back and kicked field goals from 38 and 45 yards in the fourth quarter.\\n\\n“It was awesome to see Josh Karty respond the way that he did,” McVay said.\\n\\nKarty has made 23 of 28 field-goal attempts and 29 of 33 extra points.'"
      ]
     },
     "execution_count": 3,
     "metadata": {},
     "output_type": "execute_result"
    }
   ],
   "source": [
    "print(article.title)\n",
    "print(article.lang) # detects language of article\n",
    "article.plaintext"
   ]
  },
  {
   "cell_type": "code",
   "execution_count": 4,
   "metadata": {},
   "outputs": [
    {
     "name": "stdout",
     "output_type": "stream",
     "text": [
      "Fundus-Article:\n",
      "- Title: \"What We’re Reading to Start the New Year\"\n",
      "- Text:  \"New Yorker writers and contributors on the books keeping them company this\n",
      "          winter.  The New Yorker’s editors and critics considered [...]\"\n",
      "- URL:    https://www.newyorker.com/books/page-turner/what-were-reading-to-start-the-new-year\n",
      "- From:   The New Yorker (2024-12-24 06:00)\n",
      "Fundus-Article:\n",
      "- Title: \"What to Do if You Find Paul Giamatti Hiding in Your Christmas Tree\"\n",
      "- Text:  \"Because of his ability to completely lose himself in any role—including that of\n",
      "          a mildly depressed holiday ornament—it can be days before you [...]\"\n",
      "- URL:    https://www.newyorker.com/humor/shouts-murmurs/what-to-do-if-you-find-paul-giamatti-hiding-in-your-christmas-tree\n",
      "- From:   The New Yorker (2024-12-24 06:00)\n"
     ]
    }
   ],
   "source": [
    "# initialize the crawler for The New Yorker\n",
    "crawler = Crawler(PublisherCollection.us.TheNewYorker)\n",
    "\n",
    "# crawl 2 articles and print\n",
    "for article in crawler.crawl(max_articles=2):\n",
    "    print(article)"
   ]
  },
  {
   "cell_type": "code",
   "execution_count": 5,
   "metadata": {},
   "outputs": [],
   "source": [
    "def crawl_headlines(crawlers, name_of_publishers, article_number=20):\n",
    "    \"\"\"Crawls headlines from a list of crawlers for specified publishers.\n",
    "\n",
    "    This function takes three arguments:\n",
    "        - crawlers: A list of web crawlers, each responsible for a specific publisher.\n",
    "        - name_of_publishers: A list of publisher names corresponding to the crawlers.\n",
    "        - article_number (optional): The maximum number of articles to crawl per publisher. Defaults to 20.\n",
    "\n",
    "    It returns a dictionary where the keys are publisher names and the values are lists of headlines crawled from those publishers.\n",
    "    \"\"\"\n",
    "\n",
    "    headlines = {}\n",
    "\n",
    "    for crawler, name_of_publisher in zip(crawlers, name_of_publishers):\n",
    "        \"\"\"Iterates through crawlers and corresponding publisher names.\"\"\"\n",
    "\n",
    "        publisher = []\n",
    "\n",
    "        for article in tqdm(crawler.crawl(max_articles=article_number)):\n",
    "            \"\"\"Crawls the title of articles from the current crawler up to the specified article_number.\"\"\"\n",
    "            publisher.append(article.title)\n",
    "\n",
    "        headlines[name_of_publisher] = publisher\n",
    "\n",
    "    return headlines"
   ]
  },
  {
   "cell_type": "code",
   "execution_count": 6,
   "metadata": {},
   "outputs": [
    {
     "name": "stderr",
     "output_type": "stream",
     "text": [
      "10it [00:20,  2.09s/it]\n",
      "10it [00:21,  2.18s/it]\n"
     ]
    }
   ],
   "source": [
    "crawler1 = Crawler(PublisherCollection.us.CNBC)\n",
    "crawler2 = Crawler(PublisherCollection.us.TheNation)\n",
    "\n",
    "crawlers = [crawler1, crawler2]\n",
    "names_of_publishers = [\"CNBC\", \"The Nation\"]\n",
    "headlines = crawl_headlines(crawlers, names_of_publishers, article_number=10)"
   ]
  },
  {
   "cell_type": "code",
   "execution_count": 7,
   "metadata": {},
   "outputs": [
    {
     "data": {
      "text/plain": [
       "{'CNBC': [\"As older Americans downsize, over 20 million homes could become available—but they're not where young people want to move\",\n",
       "  \"4 phrases even couples in successful relationships need to use more: 'Clear, respectful communication feels good for everyone,' therapist says\",\n",
       "  'Both sides of Amazon scored big wins this year that should carry over into 2025',\n",
       "  \"This couple retired in their 30s in 1991 and have no regrets: 'It just keeps getting better'\",\n",
       "  'These are our top 10 things to watch in the stock market Tuesday',\n",
       "  'Tech billionaire shares his 5-word piece of advice for a successful future: ‘I get up every morning’ with it in mind',\n",
       "  'The polite way to gift cash this holiday season, according to etiquette pros—you can even use Venmo',\n",
       "  'The Juan Soto wealth effect: Soaring athlete salaries attract wealth management firms',\n",
       "  \"What it would cost to live like the 'Home Alone' family today, according to financial advisors\",\n",
       "  \"'Returnuary' — after the peak shopping season comes the busiest return month of the year\"],\n",
       " 'The Nation': ['Hot Air Rises',\n",
       "  'The Supreme Court Prepares to Take Its First Shot at Contraception',\n",
       "  'Kash Patel’s First Day',\n",
       "  'What to Expect With Trump’s Future China Policy',\n",
       "  'A Far-Right Attacker Kills 5 in a Christmas Market. The German Far Right Takes Advantage.',\n",
       "  'Novelist on a Deadline: Barry Malzberg, 1939–2024',\n",
       "  'These Progressives Will Guide Us Through the Darkness',\n",
       "  'The Best Albums of 2024',\n",
       "  'A Stunning Year for Student Journalism',\n",
       "  'The Spending Fiasco Was a Preview of the Trump-Musk Administration']}"
      ]
     },
     "execution_count": 7,
     "metadata": {},
     "output_type": "execute_result"
    }
   ],
   "source": [
    "headlines"
   ]
  },
  {
   "cell_type": "code",
   "execution_count": 8,
   "metadata": {},
   "outputs": [],
   "source": [
    "def predict_labels(publisher_headlines):\n",
    "    \"\"\"Predicts sentiment labels for headlines from each publisher.\n",
    "\n",
    "    This function takes a dictionary `publisher_headlines` as input. \n",
    "    The dictionary keys are publisher names and the values are lists of headlines.\n",
    "\n",
    "    The function performs sentiment analysis on each headline and stores the predicted labels \n",
    "    in a new dictionary with the same publisher names as keys.\n",
    "\n",
    "    It returns a dictionary where the keys are publisher names and the values are lists of predicted sentiment labels \n",
    "    for the corresponding headlines.\n",
    "    \"\"\"\n",
    "\n",
    "    sentiments_per_publisher = {}\n",
    "\n",
    "    # Load a sentiment classifier (TextClassifier likely refers to a custom class or library)\n",
    "    tagger = TextClassifier.load('sentiment')  \n",
    "\n",
    "    for key, values in publisher_headlines.items():\n",
    "        \"\"\"Iterates through each publisher and its corresponding headlines.\"\"\"\n",
    "\n",
    "        temp = []\n",
    "        for value in values:\n",
    "            \"\"\"Iterates through each headline for the current publisher\"\"\"\n",
    "            sentence = Sentence(value)  # Create a Sentence object (likely custom class) for the headline\n",
    "            tagger.predict(sentence)    # Predict sentiment label for the sentence using the loaded classifier\n",
    "            temp.append(sentence.get_label().value)  # Append the predicted label value to a temporary list\n",
    "\n",
    "        sentiments_per_publisher[key] = temp  # Add the list of predicted labels for the publisher to the result dictionary\n",
    "\n",
    "    return sentiments_per_publisher"
   ]
  },
  {
   "cell_type": "code",
   "execution_count": 9,
   "metadata": {},
   "outputs": [],
   "source": [
    "sentiments_per_publisher=predict_labels(headlines) # getting sentiments"
   ]
  },
  {
   "cell_type": "code",
   "execution_count": 11,
   "metadata": {},
   "outputs": [],
   "source": [
    "def print_statistics(sentiments_per_publisher, number_of_articles=20):\n",
    "    \"\"\"\n",
    "    This function iterates over a dictionary of sentiments per publisher and prints statistics about the sentiment distribution.\n",
    "\n",
    "    Args:\n",
    "        sentiments_per_publisher (dict): A dictionary where keys are publishers and values are lists of sentiment labels for their articles.\n",
    "        number_of_articles (int, optional): The number of articles to consider when calculating statistics. Defaults to 20.\n",
    "    \"\"\"\n",
    "\n",
    "    for keys, values in sentiments_per_publisher.items():\n",
    "        \"\"\"\n",
    "        Iterates over each publisher and their corresponding sentiment labels.\n",
    "        \"\"\"\n",
    "\n",
    "        positive = 0\n",
    "        negative = 0\n",
    "        something_else = 0\n",
    "        for value in values:\n",
    "            \"\"\"\n",
    "            Iterates over each sentiment label for the current publisher.\n",
    "            \"\"\"\n",
    "\n",
    "            if value == \"POSITIVE\":\n",
    "                positive += 1\n",
    "            elif value == \"NEGATIVE\":\n",
    "                negative += 1\n",
    "            else:\n",
    "                something_else += 1\n",
    "        print(f\"{keys} has {positive} positive and {negative} negative headlines out of {number_of_articles}.\")\n",
    "        if something_else >= 1:\n",
    "            print(f\"If something got wrong then it has {something_else} something_else headlines.\")\n",
    "        print()\n",
    "\n",
    "    return\n"
   ]
  },
  {
   "cell_type": "code",
   "execution_count": 12,
   "metadata": {},
   "outputs": [
    {
     "name": "stdout",
     "output_type": "stream",
     "text": [
      "CNBC has 8 positive and 2 negative headlines out of 10.\n",
      "\n",
      "The Nation has 5 positive and 5 negative headlines out of 10.\n",
      "\n"
     ]
    }
   ],
   "source": [
    "print_statistics(sentiments_per_publisher,number_of_articles = len(sentiments_per_publisher['CNBC']))"
   ]
  },
  {
   "cell_type": "code",
   "execution_count": 13,
   "metadata": {},
   "outputs": [
    {
     "data": {
      "text/plain": [
       "['Hot Air Rises',\n",
       " 'The Supreme Court Prepares to Take Its First Shot at Contraception',\n",
       " 'Kash Patel’s First Day',\n",
       " 'What to Expect With Trump’s Future China Policy',\n",
       " 'A Far-Right Attacker Kills 5 in a Christmas Market. The German Far Right Takes Advantage.',\n",
       " 'Novelist on a Deadline: Barry Malzberg, 1939–2024',\n",
       " 'These Progressives Will Guide Us Through the Darkness',\n",
       " 'The Best Albums of 2024',\n",
       " 'A Stunning Year for Student Journalism',\n",
       " 'The Spending Fiasco Was a Preview of the Trump-Musk Administration']"
      ]
     },
     "execution_count": 13,
     "metadata": {},
     "output_type": "execute_result"
    }
   ],
   "source": [
    "# Yep, many of these titles sound negative to me\n",
    "headlines['The Nation']"
   ]
  },
  {
   "cell_type": "markdown",
   "metadata": {},
   "source": [
    "Let's try to filter by topic."
   ]
  },
  {
   "cell_type": "code",
   "execution_count": 14,
   "metadata": {},
   "outputs": [],
   "source": [
    "from typing import Dict, Any\n",
    "\n",
    "keywords = ['market','stock']\n",
    "def body_filter(extracted: Dict[str, Any]) -> bool:\n",
    "    if body := extracted.get(\"body\"):\n",
    "        for word in keywords:\n",
    "            if word in str(body).casefold():\n",
    "                return False\n",
    "    return True"
   ]
  },
  {
   "cell_type": "code",
   "execution_count": 15,
   "metadata": {},
   "outputs": [
    {
     "name": "stdout",
     "output_type": "stream",
     "text": [
      "Fundus-Article:\n",
      "- Title: \"As older Americans downsize, over 20 million homes could become [...]\"\n",
      "- Text:  \"As the U.S. continues to face a shortage of available homes, some may be looking\n",
      "          at those occupied by \"empty nesters\" as an incoming source of [...]\"\n",
      "- URL:    https://www.cnbc.com/2024/12/24/zillow-empty-nesters-downsizing-wont-solve-housing-crisis.html\n",
      "- From:   CNBC (2024-12-24 17:26)\n",
      "Fundus-Article:\n",
      "- Title: \"A comprehensive list of 2024 tech layoffs\"\n",
      "- Text:  \"The tech layoff wave is still going strong in 2024. Following significant\n",
      "          workforce reductions in 2022 and 2023, this year has more than [...]\"\n",
      "- URL:    https://techcrunch.com/2024/12/24/tech-layoffs-2024-list/\n",
      "- From:   TechCrunch (2024-12-24 20:30)\n"
     ]
    }
   ],
   "source": [
    "crawler = Crawler(PublisherCollection.us)\n",
    "\n",
    "for us_themed_article in crawler.crawl(max_articles=2,only_complete=body_filter):\n",
    "    print(us_themed_article)"
   ]
  },
  {
   "cell_type": "code",
   "execution_count": 18,
   "metadata": {},
   "outputs": [],
   "source": [
    "import datetime\n",
    "\n",
    "def date_filter(extracted: Dict[str, Any]) -> bool:\n",
    "    start_date = datetime.date(2024,11,1)\n",
    "    end_date = datetime.date(2024,12,1)\n",
    "    if publishing_date := extracted.get(\"publishing_date\"):\n",
    "        return not (start_date <= publishing_date.date() <= end_date)\n",
    "    return True"
   ]
  },
  {
   "cell_type": "code",
   "execution_count": 19,
   "metadata": {},
   "outputs": [
    {
     "name": "stdout",
     "output_type": "stream",
     "text": [
      "Fundus-Article:\n",
      "- Title: \"Biden Has “Pardoned” Eight Turkeys. Will He Spare the Lives of 40 Human Beings?\"\n",
      "- Text:  \"Five days after Orlando Hall was executed in the federal death chamber, Donald\n",
      "          Trump appeared in the White House Rose Garden for the 2020 [...]\"\n",
      "- URL:    https://theintercept.com/2024/11/27/biden-trump-commutations-death-row-executions/\n",
      "- From:   The Intercept (2024-11-27 16:27)\n",
      "Fundus-Article:\n",
      "- Title: \"Nike Promo Codes and Deals: Up to 40% Off\"\n",
      "- Text:  \"Check out our deals for Nike this month, including up to 40% off select styles.\n",
      "          In the midst of our reporting on Nike’s turbulent year, we [...]\"\n",
      "- URL:    https://www.wired.com/story/nike-promo-code/\n",
      "- From:   Wired (2024-11-01 03:00)\n"
     ]
    }
   ],
   "source": [
    "for us_themed_article in crawler.crawl(max_articles=2,only_complete=date_filter):\n",
    "    print(us_themed_article)"
   ]
  },
  {
   "cell_type": "code",
   "execution_count": null,
   "metadata": {},
   "outputs": [],
   "source": []
  }
 ],
 "metadata": {
  "kernelspec": {
   "display_name": "erdos_fall_2024",
   "language": "python",
   "name": "python3"
  },
  "language_info": {
   "codemirror_mode": {
    "name": "ipython",
    "version": 3
   },
   "file_extension": ".py",
   "mimetype": "text/x-python",
   "name": "python",
   "nbconvert_exporter": "python",
   "pygments_lexer": "ipython3",
   "version": "3.12.5"
  }
 },
 "nbformat": 4,
 "nbformat_minor": 2
}
