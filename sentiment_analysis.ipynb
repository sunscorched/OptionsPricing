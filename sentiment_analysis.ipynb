{
 "cells": [
  {
   "cell_type": "markdown",
   "metadata": {},
   "source": [
    "# Sentiment Analysis\n",
    "\n",
    "We're able to crawl for headlines from various collections but I don't yet know how to see which publishers are available."
   ]
  },
  {
   "cell_type": "code",
   "execution_count": 20,
   "metadata": {},
   "outputs": [],
   "source": [
    "from fundus import PublisherCollection, Crawler, NewsMap\n",
    "from flair.data import Sentence\n",
    "from flair.models import TextClassifier\n",
    "from tqdm import tqdm"
   ]
  },
  {
   "cell_type": "code",
   "execution_count": 2,
   "metadata": {},
   "outputs": [
    {
     "name": "stdout",
     "output_type": "stream",
     "text": [
      "Fundus-Article:\n",
      "- Title: \"Albanian prime minister says TikTok ban was not a 'rushed reaction to a [...]\"\n",
      "- Text:  \"TIRANA, Albania (AP) — Albania’s prime minister said Sunday the ban on TikTok\n",
      "          his government announced a day earlier was “not a rushed [...]\"\n",
      "- URL:    https://apnews.com/article/albania-tiktok-ban-children-violence-bullying-c6dd46c1de5cc2996b4004bcb2a76a66\n",
      "- From:   Associated Press News (2024-12-22 19:08)\n",
      "Fundus-Article:\n",
      "- Title: \"The Spending Fiasco Was a Preview of the Trump-Musk Administration\"\n",
      "- Text:  \"Congress narrowly averted a shutdown, but the whole episode offers a sneak peak\n",
      "          of the oligarchy in store.  With minutes to spare ahead of the [...]\"\n",
      "- URL:    https://www.thenation.com/article/politics/spending-shutdown-musk-oligarchy/\n",
      "- From:   The Nation (2024-12-21 17:03)\n"
     ]
    }
   ],
   "source": [
    "# initialize the crawler for news publishers based in the US\n",
    "crawler = Crawler(PublisherCollection.us)\n",
    "\n",
    "# crawl 2 articles and print\n",
    "for article in crawler.crawl(max_articles=2):\n",
    "    print(article)"
   ]
  },
  {
   "cell_type": "code",
   "execution_count": 3,
   "metadata": {},
   "outputs": [
    {
     "name": "stdout",
     "output_type": "stream",
     "text": [
      "The Spending Fiasco Was a Preview of the Trump-Musk Administration\n",
      "en\n"
     ]
    },
    {
     "data": {
      "text/plain": [
       "'Congress narrowly averted a shutdown, but the whole episode offers a sneak peak of the oligarchy in store.\\n\\nWith minutes to spare ahead of the deadline for a shutdown, the Senate approved the third version of the House’s spending bill last night. This latest installment in the dysfunctional soap opera known as Mike Johnson’s speakership was also the most unhinged, thanks to the obstructionist role played by centibillionaire turned first buddy Elon Musk. As the House prepared to vote on the initial bill to fund the government earlier this week, Musk took to the account he keeps on X, the social media platform he owns and now maintains as a palace for workshopping right-wing agitprop, to declare that any House member supporting the deal should be voted out in the next midterm cycle. (His subsequent flurry of attacks on the deal were a trademark Musk fireworks display of ignorance and lies.) Chaos then ensued: Johnson’s spending package died before a vote could be scheduled, and under the tutelage of Musk and President-elect Trump—who was something of an afterthought in the whole guignol—returned with a deal to shorten the length of the continuing resolution from March to January while also raising the debt ceiling, as a glide path for the legislative agenda of the coming Trump presidency.\\n\\nThat maneuver was also a face-plant, with the House voting it down decisively on Thursday; notably, 38 Republicans joined the Democratic caucus in rejecting it, incensed by the debt limit ploy. In seeking to browbeat congressional Republicans into submission ahead of taking office, the Trump-Musk administration instead provoked a greater uprising of spending hawks aligned with the Freedom Caucus than the Biden White House ever managed to.\\n\\nThe final bill that won passage disaggregated the main spending priorities of the prior two continuing resolutions into three stand-alone bills: the principal government-funding ask, combined with a $110 billion package of hurricane and agricultural relief aid, and a major bill called the farm law, combining anti-poverty and agricultural reform measures. After all the oligarchic sound and fury that overtook the spending negotiations, the end result isn’t all that different than what the House had started with.\\n\\nThe exceptions are quite significant, however. The first spending deal included provisions to curb prescription drug prices and step up oversight of US investment in China. That last item would have been a costly imposition on Musk’s sprawling fortune; his electric car empire, Tesla, derives about a quarter of its revenue from China-based production plants, and he’s already militantly opposed to basic corporate oversight of the company’s stateside operations. Musk’s success in getting the China legislation jettisoned now stands out in high relief against Trump’s failure to engineer a debt-ceiling reprieve. The new administration’s new master of the art of the deal isn’t Trump but the posting-addled, ketamine-fueled, cheerleading dipshit who holds no elected office and should be, on plain conflict-of-interest grounds, the last person on Earth dictating policy to Congress.\\n\\nMusk’s lead role in the spending fiasco has already sparked a round of speculation about a rift between him and the president-elect, and pundits will likely obsessively monitor the state of Musk-Trump relations once the new administration takes office next month. But the personalities of these two attention-starved hucksters aren’t really the issue—it’s the oligarchic conflict of interest, stupid. That Musk was directing the spending priorities of the legislative branch in a moment of crisis is an abuse of power that would have even shocked the brazenly corrupt political leaders of the first Gilded Age; it would have been like naming John D. Rockefeller chief justice of the Supreme Court. Oligarchic power is also responsible for the other hastily scuttled planks of the spending deal; it will be quite a narrative challenge for future historians to parse out how the government almost ground to a halt to save the sinecures of pharmacy benefit managers who engage in price-gouging. (Another healthcare provision rudely defenestrated at Musk’s behest was a $200 million outlay to research and treat pediatric cancer; this Christmas-season act of billionaire predation was too Dickensian even for today’s GOP, and $63 million of the lost funding was restored in a rare unanimous Senate vote on the eve of Congress’s final closing gavel.)\\n\\nIn its broader oligarchic outlines, the spending fiasco is not merely a return to form for a Trumpian model of governance that’s basically indistinguishable from the ethos of organized crime; it’s also a clear preview of the plutocratic squalor that will ensue in a second Trump term unshackled from the restraints of electoral accountability. The other signal Musk win in the whole fracas was the GOP House conference’s agreement to a framework to approve $2.5 trillion in spending cuts in the incoming 119th Congress. That figure is a cut-and-paste adoption of the made-up target for spending cuts that Musk blurted out when he was tapped as cochair of Trump’s similarly jury-rigged Department of Government Efficiency. As the present spending donnybrook vividly demonstrated, it’s quite unlikely that the new House, in which the GOP majority will be even smaller than the one that operated in the past Congress’s razor-thin margin, will muster the votes to advance this projected mauling of the social safety net.\\n\\nStill, it remains important to flag the brazen oligarchic agenda in play here. The main tributaries of mandatory spending that would come under this Muskian austerity diktat include Medicare, Medicaid—and even Social Security benefits in the fullness of time. (Even though Social Security overhauls are now exempt from the reconciliation process that would likely spur further spending deals, a dedicated legislative branch working under Musk’s de facto direction could find ready workarounds.) Regardless of the rocky course of the Trump-Musk rivalry for power in the long months ahead, the billionaires now throttling the conduct of our governance are in fundamental accord on the main business before them: to ensure that you get shaken down at every pass to continue fattening their bottom lines. Welcome to life under the Department of Government Oligarchy.'"
      ]
     },
     "execution_count": 3,
     "metadata": {},
     "output_type": "execute_result"
    }
   ],
   "source": [
    "print(article.title)\n",
    "print(article.lang) # detects language of article\n",
    "article.plaintext\n"
   ]
  },
  {
   "cell_type": "code",
   "execution_count": 4,
   "metadata": {},
   "outputs": [
    {
     "name": "stdout",
     "output_type": "stream",
     "text": [
      "Fundus-Article:\n",
      "- Title: \"Lee Chang-dong on South Korea in the Nineteen-Eighties and Today\"\n",
      "- Text:  \"The author discusses his story “The Leper.”  In this week’s story, “The Leper,”\n",
      "          the narrator discovers that his father has confessed to spying [...]\"\n",
      "- URL:    https://www.newyorker.com/books/this-week-in-fiction/lee-chang-dong-12-30-24\n",
      "- From:   The New Yorker (2024-12-22 06:00)\n",
      "Fundus-Article:\n",
      "- Title: \"“The Leper,” by Lee Chang-dong\"\n",
      "- Text:  \"Before I knocked, I took a moment to calm my breathing. But even a couple of\n",
      "          deep breaths did nothing to lessen my anxiety, and, to the sound [...]\"\n",
      "- URL:    https://www.newyorker.com/magazine/2024/12/30/the-leper-fiction-lee-chang-dong\n",
      "- From:   The New Yorker (2024-12-22 06:00)\n"
     ]
    }
   ],
   "source": [
    "# initialize the crawler for The New Yorker\n",
    "crawler = Crawler(PublisherCollection.us.TheNewYorker)\n",
    "\n",
    "# crawl 2 articles and print\n",
    "for article in crawler.crawl(max_articles=2):\n",
    "    print(article)"
   ]
  },
  {
   "cell_type": "code",
   "execution_count": 21,
   "metadata": {},
   "outputs": [],
   "source": [
    "def crawl_headlines(crawlers, name_of_publishers, article_number=20):\n",
    "    \"\"\"Crawls headlines from a list of crawlers for specified publishers.\n",
    "\n",
    "    This function takes three arguments:\n",
    "        - crawlers: A list of web crawlers, each responsible for a specific publisher.\n",
    "        - name_of_publishers: A list of publisher names corresponding to the crawlers.\n",
    "        - article_number (optional): The maximum number of articles to crawl per publisher. Defaults to 20.\n",
    "\n",
    "    It returns a dictionary where the keys are publisher names and the values are lists of headlines crawled from those publishers.\n",
    "    \"\"\"\n",
    "\n",
    "    headlines = {}\n",
    "\n",
    "    for crawler, name_of_publisher in zip(crawlers, name_of_publishers):\n",
    "        \"\"\"Iterates through crawlers and corresponding publisher names.\"\"\"\n",
    "\n",
    "        publisher = []\n",
    "\n",
    "        for article in tqdm(crawler.crawl(max_articles=article_number)):\n",
    "            \"\"\"Crawls the title of articles from the current crawler up to the specified article_number.\"\"\"\n",
    "            publisher.append(article.title)\n",
    "\n",
    "        headlines[name_of_publisher] = publisher\n",
    "\n",
    "    return headlines"
   ]
  },
  {
   "cell_type": "code",
   "execution_count": 29,
   "metadata": {},
   "outputs": [
    {
     "name": "stderr",
     "output_type": "stream",
     "text": [
      "10it [00:14,  1.46s/it]\n",
      "10it [00:14,  1.49s/it]\n"
     ]
    }
   ],
   "source": [
    "crawler1 = Crawler(PublisherCollection.us.CNBC)\n",
    "crawler2 = Crawler(PublisherCollection.us.TheNation)\n",
    "\n",
    "crawlers = [crawler1, crawler2]\n",
    "names_of_publishers = [\"CNBC\", \"The Nation\"]\n",
    "headlines = crawl_headlines(crawlers, names_of_publishers, article_number=10)"
   ]
  },
  {
   "cell_type": "code",
   "execution_count": 42,
   "metadata": {},
   "outputs": [
    {
     "data": {
      "text/plain": [
       "{'CNBC': ['Macao is becoming a city of sports and entertainment, Sands China CEO says, as President Xi urges diversification',\n",
       "  'CNBC Daily Open: With cooler-than-expected PCE, would the Fed’s dot plot have looked different?',\n",
       "  'Asia-Pacific markets begin Christmas week higher; Nissan-Honda merger deal in focus',\n",
       "  'How Gen X and millennials are changing the face of the traditional family office as they inherit over $80 trillion',\n",
       "  \"1 big question this week: Was Friday's good news double a market turning point?\",\n",
       "  'Amtrak temporarily suspends Northeast Corridor service days before holiday',\n",
       "  'Donald Trump says Vladimir Putin wants a meeting as soon as possible about the war with Ukraine',\n",
       "  'What Google’s quantum computing breakthrough Willow means for the future of bitcoin and other cryptos',\n",
       "  '‘It feels like Elon Musk is our prime minister’: The fallout from the funding debacle',\n",
       "  \"This is the No. 1 company where workers are happy with their pay—it's not based in New York or San Francisco\"],\n",
       " 'The Nation': ['The Spending Fiasco Was a Preview of the Trump-Musk Administration',\n",
       "  'When the Feds Are Still Watching',\n",
       "  'My 2025 Project: Starting a New Column, “Hiding in Plain Sight”',\n",
       "  'The Billionaire Who Stole Christmas',\n",
       "  'The Downsides of the Wind Energy Boom',\n",
       "  'Joe Biden’s Bodyguard of Liars Betrayed American Democracy',\n",
       "  'Is America Killing Itself?',\n",
       "  'Red Tape Saves Lives',\n",
       "  'If Less Than 115,000 Votes Had Switched in Three Battleground States, Harris Would Have Beaten Trump',\n",
       "  'Brain-Dead Bipartisanship Is Getting Us Nowhere']}"
      ]
     },
     "execution_count": 42,
     "metadata": {},
     "output_type": "execute_result"
    }
   ],
   "source": [
    "headlines"
   ]
  },
  {
   "cell_type": "code",
   "execution_count": 24,
   "metadata": {},
   "outputs": [],
   "source": [
    "def predict_labels(publisher_headlines):\n",
    "    \"\"\"Predicts sentiment labels for headlines from each publisher.\n",
    "\n",
    "    This function takes a dictionary `publisher_headlines` as input. \n",
    "    The dictionary keys are publisher names and the values are lists of headlines.\n",
    "\n",
    "    The function performs sentiment analysis on each headline and stores the predicted labels \n",
    "    in a new dictionary with the same publisher names as keys.\n",
    "\n",
    "    It returns a dictionary where the keys are publisher names and the values are lists of predicted sentiment labels \n",
    "    for the corresponding headlines.\n",
    "    \"\"\"\n",
    "\n",
    "    sentiments_per_publisher = {}\n",
    "\n",
    "    # Load a sentiment classifier (TextClassifier likely refers to a custom class or library)\n",
    "    tagger = TextClassifier.load('sentiment')  \n",
    "\n",
    "    for key, values in publisher_headlines.items():\n",
    "        \"\"\"Iterates through each publisher and its corresponding headlines.\"\"\"\n",
    "\n",
    "        temp = []\n",
    "        for value in values:\n",
    "            \"\"\"Iterates through each headline for the current publisher\"\"\"\n",
    "            sentence = Sentence(value)  # Create a Sentence object (likely custom class) for the headline\n",
    "            tagger.predict(sentence)    # Predict sentiment label for the sentence using the loaded classifier\n",
    "            temp.append(sentence.get_label().value)  # Append the predicted label value to a temporary list\n",
    "\n",
    "        sentiments_per_publisher[key] = temp  # Add the list of predicted labels for the publisher to the result dictionary\n",
    "\n",
    "    return sentiments_per_publisher"
   ]
  },
  {
   "cell_type": "code",
   "execution_count": 30,
   "metadata": {},
   "outputs": [],
   "source": [
    "sentiments_per_publisher=predict_labels(headlines) # getting sentiments"
   ]
  },
  {
   "cell_type": "code",
   "execution_count": 36,
   "metadata": {},
   "outputs": [
    {
     "data": {
      "text/plain": [
       "10"
      ]
     },
     "execution_count": 36,
     "metadata": {},
     "output_type": "execute_result"
    }
   ],
   "source": [
    "len(sentiments_per_publisher['CNBC'])"
   ]
  },
  {
   "cell_type": "code",
   "execution_count": 40,
   "metadata": {},
   "outputs": [],
   "source": [
    "def print_statistics(sentiments_per_publisher, number_of_articles=20):\n",
    "    \"\"\"\n",
    "    This function iterates over a dictionary of sentiments per publisher and prints statistics about the sentiment distribution.\n",
    "\n",
    "    Args:\n",
    "        sentiments_per_publisher (dict): A dictionary where keys are publishers and values are lists of sentiment labels for their articles.\n",
    "        number_of_articles (int, optional): The number of articles to consider when calculating statistics. Defaults to 20.\n",
    "    \"\"\"\n",
    "\n",
    "    for keys, values in sentiments_per_publisher.items():\n",
    "        \"\"\"\n",
    "        Iterates over each publisher and their corresponding sentiment labels.\n",
    "        \"\"\"\n",
    "\n",
    "        positive = 0\n",
    "        negative = 0\n",
    "        something_else = 0\n",
    "        for value in values:\n",
    "            \"\"\"\n",
    "            Iterates over each sentiment label for the current publisher.\n",
    "            \"\"\"\n",
    "\n",
    "            if value == \"POSITIVE\":\n",
    "                positive += 1\n",
    "            elif value == \"NEGATIVE\":\n",
    "                negative += 1\n",
    "            else:\n",
    "                something_else += 1\n",
    "        print(f\"{keys} has {positive} positive and {negative} negative headlines out of {number_of_articles}.\")\n",
    "        if something_else >= 1:\n",
    "            print(f\"If something got wrong then it has {something_else} something_else headlines.\")\n",
    "        print()\n",
    "\n",
    "    return\n"
   ]
  },
  {
   "cell_type": "code",
   "execution_count": 41,
   "metadata": {},
   "outputs": [
    {
     "name": "stdout",
     "output_type": "stream",
     "text": [
      "CNBC has 5 positive and 5 negative headlines out of 10.\n",
      "\n",
      "The Nation has 3 positive and 7 negative headlines out of 10.\n",
      "\n"
     ]
    }
   ],
   "source": [
    "print_statistics(sentiments_per_publisher,number_of_articles = len(sentiments_per_publisher['CNBC']))"
   ]
  },
  {
   "cell_type": "code",
   "execution_count": 43,
   "metadata": {},
   "outputs": [
    {
     "data": {
      "text/plain": [
       "['The Spending Fiasco Was a Preview of the Trump-Musk Administration',\n",
       " 'When the Feds Are Still Watching',\n",
       " 'My 2025 Project: Starting a New Column, “Hiding in Plain Sight”',\n",
       " 'The Billionaire Who Stole Christmas',\n",
       " 'The Downsides of the Wind Energy Boom',\n",
       " 'Joe Biden’s Bodyguard of Liars Betrayed American Democracy',\n",
       " 'Is America Killing Itself?',\n",
       " 'Red Tape Saves Lives',\n",
       " 'If Less Than 115,000 Votes Had Switched in Three Battleground States, Harris Would Have Beaten Trump',\n",
       " 'Brain-Dead Bipartisanship Is Getting Us Nowhere']"
      ]
     },
     "execution_count": 43,
     "metadata": {},
     "output_type": "execute_result"
    }
   ],
   "source": [
    "# Yep, many of these titles sound negative to me\n",
    "headlines['The Nation']"
   ]
  },
  {
   "cell_type": "code",
   "execution_count": null,
   "metadata": {},
   "outputs": [],
   "source": []
  }
 ],
 "metadata": {
  "kernelspec": {
   "display_name": "erdos_fall_2024",
   "language": "python",
   "name": "python3"
  },
  "language_info": {
   "codemirror_mode": {
    "name": "ipython",
    "version": 3
   },
   "file_extension": ".py",
   "mimetype": "text/x-python",
   "name": "python",
   "nbconvert_exporter": "python",
   "pygments_lexer": "ipython3",
   "version": "3.12.5"
  }
 },
 "nbformat": 4,
 "nbformat_minor": 2
}
