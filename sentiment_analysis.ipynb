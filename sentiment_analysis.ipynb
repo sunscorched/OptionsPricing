{
 "cells": [
  {
   "cell_type": "markdown",
   "metadata": {},
   "source": [
    "# Sentiment Analysis\n",
    "\n",
    "We're able to crawl for headlines from various collections but I don't yet know how to see which publishers are available."
   ]
  },
  {
   "cell_type": "code",
   "execution_count": 29,
   "metadata": {},
   "outputs": [],
   "source": [
    "from fundus import PublisherCollection, Crawler, NewsMap\n",
    "from flair.data import Sentence\n",
    "from flair.models import TextClassifier\n",
    "from tqdm import tqdm"
   ]
  },
  {
   "cell_type": "code",
   "execution_count": 30,
   "metadata": {},
   "outputs": [],
   "source": [
    "# initialize the crawler for news publishers based in the US\n",
    "crawler = Crawler(PublisherCollection.us)\n",
    "\n",
    "# crawl 2 articles and print\n",
    "for article in crawler.crawl(max_articles=2):\n",
    "    print(article)"
   ]
  },
  {
   "cell_type": "code",
   "execution_count": 31,
   "metadata": {},
   "outputs": [
    {
     "name": "stdout",
     "output_type": "stream",
     "text": [
      "“Black Doves” Offers a Sentimental Spin on the Spy Genre\n",
      "en\n"
     ]
    },
    {
     "data": {
      "text/plain": [
       "'The Keira Knightley- and Ben Whishaw-led Netflix series eventually snares its protagonists in a traditional espionage plot—but it’s most interested in their friendship.\\n\\nIn the new mystery thriller “Black Doves,” the purview of secret agents can include school plays, bedtime stories, and holiday decorations. By day, Helen Webb (Keira Knightley) is a model wife to the U.K.’s Defense Secretary (Andrew Buchan) and a doting mother to their two young kids; by night, she relays intelligence to her handler, Mrs. Reed (Sarah Lancashire), who sells information gathered by “black doves” like Helen to the highest bidder. That’s when things go right. In the second episode, things go wrong: an assassin breaks into Helen’s kitchen, where she and the intruder tussle in the dark, their knock-down-drag-out brawl lit by the glow of a Christmas tree. Upon gaining the upper hand, Helen threatens him in the manner of a wrathful domestic goddess. “I have a cheese grater in the dishwasher,” she says. “I have a peeler. I have skewers. I have a kettle.” With vicious emphasis, she adds, “I have a NutriBullet.” By the next morning, she has a dead body in her garden shed—and is left fretting about the dried blood under her fingernails.\\n\\n“Black Doves,” a six-part Netflix series created by Joe Barton, is populated by opportunists and mercenaries who nevertheless forge genuine partnerships. Helen, in her dual role as politician’s wife and mole, feels twice the pressure to keep up appearances. (Her gift for spycraft also has its consequences in the familial sphere, as when she taps her husband’s phone and is irked to find evidence of a flirtation with a pretty young assistant.) The suspicious death of a Chinese ambassador and the disappearance of his hard-partying daughter gradually ensnare Helen in a traditional espionage plot, but the questions that feel most urgent are interpersonal: namely, how she and her onetime trainer, Sam (Ben Whishaw), came to be friends, and what ultimately severed their bond. When Sam surprises Helen after seven years away, she says that she thought she’d only see him again if he was hired to “retire” her. “You know I’d never take that job,” he replies. “Unless the money was really good.”\\n\\nHis cynicism, like hers, is quickly revealed to be a self-protective pose. It’s probably not a coincidence that this sentimental spin on the spy genre foregrounds women and gay men—and that love, not geopolitics, is the governing force in its protagonists’ lives. Sam’s return to London is complicated by unfinished business with his civilian ex-boyfriend, and Helen is propelled by the murder of her own paramour, to whom she’d confessed her double life. The case supervisors and crime bosses are female, too—played by such veteran character actresses as Lancashire, Tracey Ullman, and a gnomic Kathryn Hunter. Respectable-seeming women can go unnoticed more easily than their male counterparts; Helen’s ever-oblivious husband mistakes Mrs. Reed for a government functionary when she sneaks into a party he’s throwing. She’s so soft-spoken, in fact, that even Helen routinely underestimates her ruthlessness.\\n\\nIn most respects, though, “Black Doves” is like a box of bonbons gifted around the holidays: pleasing, elegant, forgotten as soon as it’s consumed. Like so many spy tales, the show is driven by intricate plotting rather than by meaningful character development. Helen’s indifference to the sale of state secrets, in particular, is hard to square with the decency she exhibits in the other facets of her life. Her friendship with Sam is too thinly sketched for its gooey dénouement to achieve real resonance, and the few glimpses we get, via flashback, of her affair are insufficient to lend her revenge plot much emotional heft. She expresses regret that neither she nor anyone around her knows her true self, but the series fails to delve any deeper into that existential crisis. The more poignant admission comes from Sam’s ex, Michael (Omari Douglas)—who says that, after discovering that all he knew of his boyfriend had been a front, he found it difficult to trust again, out of fear of falling for another man who didn’t exist.\\n\\nDouglas conjures a lovely, lived-in chemistry with Whishaw, who wears his character’s world-weariness like a second skin. Yet these more grounded performances are undercut by the show’s need to provide the very kind of action that haunts its heroes. One of Sam’s unlikeliest allies is a young hit woman who offers fist-bumps between kills and proves alarmingly determined to deploy a rocket launcher. Her cheerful bravado is a jarring contrast to his inner turmoil; it’s also rather silly. But, as an old contact suggests after Sam’s homecoming, times have changed. Spectacle is in. “It ain’t like in your day,” the other man says wistfully. “At least you used to kill people with a touch of class.”\\n\\nIf “Black Doves” aspires to inject some coziness into the generally chilly espionage genre, “The Agency,” on Paramount+, turns the thermostat way down. In comparison with the gentle subversions of the Netflix show, this remake of the French thriller “The Bureau” goes all in on the loneliness of saving the world. Michael Fassbender plays a C.I.A. operative who gets abruptly pulled from an assignment in Ethiopia, where he’d met the love of his life, a historian named Samia (Jodie Turner-Smith). Now stationed in London, he’s nicknamed Martian by his colleagues and reacquainted with his resentful college-age daughter (India Fowler). Martian, often the smartest guy in the room, chafes at his employers’ insistence on surveilling him for signs of “post-mission disorder,” a condition that goes unexplained. His grievances intensify when he secretly rekindles his romance with Samia, whose own role in sensitive diplomatic matters he never imagined.\\n\\nFassbender’s calling card is his intensity, which exposes the raw humanity of his characters—or something terrifying within them that doesn’t feel human at all. That ferocity is a sorely needed asset to “The Agency,” but even great performances from the likes of Fassbender, Richard Gere, and Jeffrey Wright can’t make up for its syrupy-slow pacing and its dependence on familiar tropes. Worse still are its vague, belabored meditations on the psychic toll of life undercover. When a C.I.A. psychologist (Harriet Sansom Harris) interrogates Martian’s state of mind, he seemingly channels the Joker, insisting that his unwellness is what allows him to do the job. “You’re not trying to help me,” he says. “You’re worried I may have somehow become sane.” He reassures her with a line so dopey not even Fassbender can save it: “The person sitting in front of you is, was, will remain purely, deeply, identifiably one hundred per cent nuts.”\\n\\n“The Agency” is set against a renewed Cold War, and strains to assert its relevance to the present. One subplot takes place in Ukraine; another involves Tehran’s nuclear efforts. But the six episodes made available to critics are too preoccupied with Martian’s ostensible nuttiness to say anything about our world. The supposed international stakes of “Black Doves”—that the ambassador’s death might somehow trigger World War III—feel similarly removed from reality. In the face of these recent missteps, it’s worth wondering if the spy drama of today can—or even cares to—serve as more than escapism. The rare exception to the rule is the excellent “Slow Horses,” a British series on Apple TV+ which conveys both institutional rot and the sense of personal betrayal that comes with being deemed expendable by one’s own government. But many of the show’s U.S. counterparts have fallen short, even as real-life issues of national security have seldom felt more pressing. Disinformation is rampant, and Tulsi Gabbard, a former congresswoman infamously accused by Hillary Clinton of being “a Russian asset,” has been nominated by Donald Trump to oversee the nation’s eighteen intelligence agencies. A new world order—one that decenters America as the planet’s reigning superpower—appears to be ascendant. Such narratives are present in our daily lives but unusually absent from our popular culture, which has historically distilled the anxieties of the times. Distancing espionage thrillers from our own political tumult can give them a comforting gloss; it also robs them of their staying power. In the end, the drama unfolding on the news is the one that sticks. ♦'"
      ]
     },
     "execution_count": 31,
     "metadata": {},
     "output_type": "execute_result"
    }
   ],
   "source": [
    "print(article.title)\n",
    "print(article.lang) # detects language of article\n",
    "article.plaintext"
   ]
  },
  {
   "cell_type": "code",
   "execution_count": 32,
   "metadata": {},
   "outputs": [],
   "source": [
    "# initialize the crawler for The New Yorker\n",
    "crawler = Crawler(PublisherCollection.us.TheNewYorker)\n",
    "\n",
    "# crawl 2 articles and print\n",
    "for article in crawler.crawl(max_articles=2):\n",
    "    print(article)"
   ]
  },
  {
   "cell_type": "code",
   "execution_count": 33,
   "metadata": {},
   "outputs": [],
   "source": [
    "def crawl_headlines(crawlers, name_of_publishers, article_number=20):\n",
    "    \"\"\"Crawls headlines from a list of crawlers for specified publishers.\n",
    "\n",
    "    This function takes three arguments:\n",
    "        - crawlers: A list of web crawlers, each responsible for a specific publisher.\n",
    "        - name_of_publishers: A list of publisher names corresponding to the crawlers.\n",
    "        - article_number (optional): The maximum number of articles to crawl per publisher. Defaults to 20.\n",
    "\n",
    "    It returns a dictionary where the keys are publisher names and the values are lists of headlines crawled from those publishers.\n",
    "    \"\"\"\n",
    "\n",
    "    headlines = {}\n",
    "\n",
    "    for crawler, name_of_publisher in zip(crawlers, name_of_publishers):\n",
    "        \"\"\"Iterates through crawlers and corresponding publisher names.\"\"\"\n",
    "\n",
    "        publisher = []\n",
    "\n",
    "        for article in tqdm(crawler.crawl(max_articles=article_number)):\n",
    "            \"\"\"Crawls the title of articles from the current crawler up to the specified article_number.\"\"\"\n",
    "            publisher.append(article.title)\n",
    "\n",
    "        headlines[name_of_publisher] = publisher\n",
    "\n",
    "    return headlines"
   ]
  },
  {
   "cell_type": "code",
   "execution_count": 34,
   "metadata": {},
   "outputs": [
    {
     "name": "stderr",
     "output_type": "stream",
     "text": [
      "0it [00:40, ?it/s]\n",
      "0it [00:00, ?it/s]"
     ]
    }
   ],
   "source": [
    "crawler1 = Crawler(PublisherCollection.us.CNBC)\n",
    "crawler2 = Crawler(PublisherCollection.us.TheNation)\n",
    "\n",
    "crawlers = [crawler1, crawler2]\n",
    "names_of_publishers = [\"CNBC\", \"The Nation\"]\n",
    "headlines = crawl_headlines(crawlers, names_of_publishers, article_number=10)"
   ]
  },
  {
   "cell_type": "code",
   "execution_count": 7,
   "metadata": {},
   "outputs": [
    {
     "data": {
      "text/plain": [
       "{'CNBC': [\"Silicon Valley's White House influence grows as Trump taps tech execs for key roles\",\n",
       "  'Biden administration withdraws student loan forgiveness plans. What borrowers should know',\n",
       "  'U.S. sues Walmart, Branch Messenger over payment accounts for delivery drivers',\n",
       "  \"Savannah James' worst money mistake still gives her the 'heebie jeebies': It was 'a substantial amount, I'm still stressed out'\",\n",
       "  'I asked a 105-year-old when middle age starts: Her answer delighted me—and made me feel better about turning 40',\n",
       "  \"House Ethics panel finds Matt Gaetz had sex with 17-year-old, 'regularly' paid for sex\",\n",
       "  'Here are our top 10 things to watch in the stock market Monday',\n",
       "  'Nordstrom to go private in $6.25 billion deal with founding family, Mexican retailer',\n",
       "  \"This career coach 'always' negotiates for more PTO—her top 3 tips for making the ask\",\n",
       "  \"Charge card vs. credit card: What's the difference?\"],\n",
       " 'The Nation': ['A Far-Right Attacker Kills 5 in a Christmas Market. The German Far Right Takes Advantage.',\n",
       "  'Novelist on a Deadline: Barry Malzberg, 1939–2024',\n",
       "  'These Progressive Will Guide Us Through the Darkness',\n",
       "  'The Best Albums of 2024',\n",
       "  'A Stunning Year for Student Journalism',\n",
       "  'The Spending Fiasco Was a Preview of the Trump-Musk Administration',\n",
       "  'When the Feds Are Still Watching',\n",
       "  'My 2025 Project: Starting a New Column, “Hiding in Plain Sight”',\n",
       "  'The Billionaire Who Stole Christmas',\n",
       "  'The Downsides of the Wind Energy Boom']}"
      ]
     },
     "execution_count": 7,
     "metadata": {},
     "output_type": "execute_result"
    }
   ],
   "source": [
    "headlines"
   ]
  },
  {
   "cell_type": "code",
   "execution_count": 8,
   "metadata": {},
   "outputs": [],
   "source": [
    "def predict_labels(publisher_headlines):\n",
    "    \"\"\"Predicts sentiment labels for headlines from each publisher.\n",
    "\n",
    "    This function takes a dictionary `publisher_headlines` as input. \n",
    "    The dictionary keys are publisher names and the values are lists of headlines.\n",
    "\n",
    "    The function performs sentiment analysis on each headline and stores the predicted labels \n",
    "    in a new dictionary with the same publisher names as keys.\n",
    "\n",
    "    It returns a dictionary where the keys are publisher names and the values are lists of predicted sentiment labels \n",
    "    for the corresponding headlines.\n",
    "    \"\"\"\n",
    "\n",
    "    sentiments_per_publisher = {}\n",
    "\n",
    "    # Load a sentiment classifier (TextClassifier likely refers to a custom class or library)\n",
    "    tagger = TextClassifier.load('sentiment')  \n",
    "\n",
    "    for key, values in publisher_headlines.items():\n",
    "        \"\"\"Iterates through each publisher and its corresponding headlines.\"\"\"\n",
    "\n",
    "        temp = []\n",
    "        for value in values:\n",
    "            \"\"\"Iterates through each headline for the current publisher\"\"\"\n",
    "            sentence = Sentence(value)  # Create a Sentence object (likely custom class) for the headline\n",
    "            tagger.predict(sentence)    # Predict sentiment label for the sentence using the loaded classifier\n",
    "            temp.append(sentence.get_label().value)  # Append the predicted label value to a temporary list\n",
    "\n",
    "        sentiments_per_publisher[key] = temp  # Add the list of predicted labels for the publisher to the result dictionary\n",
    "\n",
    "    return sentiments_per_publisher"
   ]
  },
  {
   "cell_type": "code",
   "execution_count": 9,
   "metadata": {},
   "outputs": [],
   "source": [
    "sentiments_per_publisher=predict_labels(headlines) # getting sentiments"
   ]
  },
  {
   "cell_type": "code",
   "execution_count": 10,
   "metadata": {},
   "outputs": [
    {
     "data": {
      "text/plain": [
       "10"
      ]
     },
     "execution_count": 10,
     "metadata": {},
     "output_type": "execute_result"
    }
   ],
   "source": [
    "len(sentiments_per_publisher['CNBC'])"
   ]
  },
  {
   "cell_type": "code",
   "execution_count": 11,
   "metadata": {},
   "outputs": [],
   "source": [
    "def print_statistics(sentiments_per_publisher, number_of_articles=20):\n",
    "    \"\"\"\n",
    "    This function iterates over a dictionary of sentiments per publisher and prints statistics about the sentiment distribution.\n",
    "\n",
    "    Args:\n",
    "        sentiments_per_publisher (dict): A dictionary where keys are publishers and values are lists of sentiment labels for their articles.\n",
    "        number_of_articles (int, optional): The number of articles to consider when calculating statistics. Defaults to 20.\n",
    "    \"\"\"\n",
    "\n",
    "    for keys, values in sentiments_per_publisher.items():\n",
    "        \"\"\"\n",
    "        Iterates over each publisher and their corresponding sentiment labels.\n",
    "        \"\"\"\n",
    "\n",
    "        positive = 0\n",
    "        negative = 0\n",
    "        something_else = 0\n",
    "        for value in values:\n",
    "            \"\"\"\n",
    "            Iterates over each sentiment label for the current publisher.\n",
    "            \"\"\"\n",
    "\n",
    "            if value == \"POSITIVE\":\n",
    "                positive += 1\n",
    "            elif value == \"NEGATIVE\":\n",
    "                negative += 1\n",
    "            else:\n",
    "                something_else += 1\n",
    "        print(f\"{keys} has {positive} positive and {negative} negative headlines out of {number_of_articles}.\")\n",
    "        if something_else >= 1:\n",
    "            print(f\"If something got wrong then it has {something_else} something_else headlines.\")\n",
    "        print()\n",
    "\n",
    "    return\n"
   ]
  },
  {
   "cell_type": "code",
   "execution_count": 12,
   "metadata": {},
   "outputs": [
    {
     "name": "stdout",
     "output_type": "stream",
     "text": [
      "CNBC has 4 positive and 6 negative headlines out of 10.\n",
      "\n",
      "The Nation has 6 positive and 4 negative headlines out of 10.\n",
      "\n"
     ]
    }
   ],
   "source": [
    "print_statistics(sentiments_per_publisher,number_of_articles = len(sentiments_per_publisher['CNBC']))"
   ]
  },
  {
   "cell_type": "code",
   "execution_count": 13,
   "metadata": {},
   "outputs": [
    {
     "data": {
      "text/plain": [
       "['A Far-Right Attacker Kills 5 in a Christmas Market. The German Far Right Takes Advantage.',\n",
       " 'Novelist on a Deadline: Barry Malzberg, 1939–2024',\n",
       " 'These Progressive Will Guide Us Through the Darkness',\n",
       " 'The Best Albums of 2024',\n",
       " 'A Stunning Year for Student Journalism',\n",
       " 'The Spending Fiasco Was a Preview of the Trump-Musk Administration',\n",
       " 'When the Feds Are Still Watching',\n",
       " 'My 2025 Project: Starting a New Column, “Hiding in Plain Sight”',\n",
       " 'The Billionaire Who Stole Christmas',\n",
       " 'The Downsides of the Wind Energy Boom']"
      ]
     },
     "execution_count": 13,
     "metadata": {},
     "output_type": "execute_result"
    }
   ],
   "source": [
    "# Yep, many of these titles sound negative to me\n",
    "headlines['The Nation']"
   ]
  },
  {
   "cell_type": "markdown",
   "metadata": {},
   "source": [
    "Let's try to filter by topic."
   ]
  },
  {
   "cell_type": "code",
   "execution_count": 14,
   "metadata": {},
   "outputs": [],
   "source": [
    "from typing import Dict, Any\n",
    "\n",
    "keywords = ['market','stock']\n",
    "def body_filter(extracted: Dict[str, Any]) -> bool:\n",
    "    if body := extracted.get(\"body\"):\n",
    "        for word in keywords:\n",
    "            if word in str(body).casefold():\n",
    "                return False\n",
    "    return True"
   ]
  },
  {
   "cell_type": "code",
   "execution_count": 28,
   "metadata": {},
   "outputs": [],
   "source": [
    "crawler = Crawler(PublisherCollection.us)\n",
    "\n",
    "for us_themed_article in crawler.crawl(max_articles=2,only_complete=body_filter):\n",
    "    print(us_themed_article)"
   ]
  },
  {
   "cell_type": "code",
   "execution_count": 26,
   "metadata": {},
   "outputs": [],
   "source": [
    "import datetime\n",
    "\n",
    "def date_filter(extracted: Dict[str, Any]) -> bool:\n",
    "    start_date = datetime.date(2024,11,1)\n",
    "    end_date = datetime.date(2024,12,1)\n",
    "    publishing_date = extracted.get(\"publishing_date\")\n",
    "    return (start_date <= publishing_date.date() <= end_date)"
   ]
  },
  {
   "cell_type": "code",
   "execution_count": 27,
   "metadata": {},
   "outputs": [],
   "source": [
    "for us_themed_article in crawler.crawl(max_articles=2,only_complete=date_filter):\n",
    "    print(us_themed_article)"
   ]
  },
  {
   "cell_type": "code",
   "execution_count": null,
   "metadata": {},
   "outputs": [],
   "source": []
  }
 ],
 "metadata": {
  "kernelspec": {
   "display_name": "erdos_fall_2024",
   "language": "python",
   "name": "python3"
  },
  "language_info": {
   "codemirror_mode": {
    "name": "ipython",
    "version": 3
   },
   "file_extension": ".py",
   "mimetype": "text/x-python",
   "name": "python",
   "nbconvert_exporter": "python",
   "pygments_lexer": "ipython3",
   "version": "3.12.5"
  }
 },
 "nbformat": 4,
 "nbformat_minor": 2
}
