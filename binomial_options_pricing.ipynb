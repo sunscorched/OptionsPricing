{
 "cells": [
  {
   "cell_type": "markdown",
   "metadata": {},
   "source": [
    "# Binomial Options Pricing Model"
   ]
  },
  {
   "cell_type": "code",
   "execution_count": 1,
   "metadata": {},
   "outputs": [],
   "source": [
    "import BinomialTree as bt"
   ]
  },
  {
   "cell_type": "code",
   "execution_count": 2,
   "metadata": {},
   "outputs": [
    {
     "name": "stdout",
     "output_type": "stream",
     "text": [
      "Path: LLL, Value: 0\n",
      "Path: LLR, Value: 0\n",
      "Path: LRL, Value: 0\n",
      "Path: LRR, Value: 40.400000000000006\n",
      "Path: RLL, Value: 0\n",
      "Path: RLR, Value: 14.40000000000002\n",
      "Path: RRL, Value: 0\n",
      "Path: RRR, Value: 71.6\n"
     ]
    }
   ],
   "source": [
    "# Example usage:\n",
    "u_list = [1.1, 1.2, 1.3]\n",
    "d_list = [0.9, 0.8, 0.7]\n",
    "probabilities = [0.5, 0.5, 0.5]  # Example probabilities\n",
    "r = 0.95  # Discount factor\n",
    "E = 3  # Exercise value for American options\n",
    "tree = bt.BinomialTree(depth=3, S=100, K=100, u_list=u_list, d_list=d_list, option_type='call')\n",
    "\n",
    "# Fill inner node values for American options\n",
    "tree.fill_inner_node_values(probabilities, r, option_style='american', E=E)\n",
    "\n",
    "# Print tree's leaf paths and their values\n",
    "print(tree)\n"
   ]
  },
  {
   "cell_type": "code",
   "execution_count": 4,
   "metadata": {},
   "outputs": [
    {
     "name": "stdout",
     "output_type": "stream",
     "text": [
      "Path: , Value: 14.2234\n",
      "Path: L, Value: 10.54025\n",
      "Path: LL, Value: 3\n",
      "Path: LLL, Value: 0\n",
      "Path: LLR, Value: 0\n",
      "Path: LR, Value: 19.19\n",
      "Path: LRL, Value: 0\n",
      "Path: LRR, Value: 40.400000000000006\n",
      "Path: R, Value: 19.403750000000002\n",
      "Path: RL, Value: 6.840000000000009\n",
      "Path: RLL, Value: 0\n",
      "Path: RLR, Value: 14.40000000000002\n",
      "Path: RR, Value: 34.01\n",
      "Path: RRL, Value: 0\n",
      "Path: RRR, Value: 71.6\n",
      "Root Value: 14.2234\n"
     ]
    }
   ],
   "source": [
    "# Example usage:\n",
    "tree = bt.BinomialTree(depth=3, S=100, K=100, u_list=u_list, d_list=d_list, option_type='call')\n",
    "\n",
    "# Fill inner node values\n",
    "tree.fill_inner_node_values(probabilities, r, option_style='american', E=E)\n",
    "\n",
    "# Get all node values\n",
    "all_node_values = tree.get_all_node_values()\n",
    "\n",
    "# Print all nodes\n",
    "for path, value in all_node_values.items():\n",
    "    print(f\"Path: {path}, Value: {value}\")\n",
    "\n",
    "# Root value\n",
    "print(f\"Root Value: {tree.root.value}\")\n"
   ]
  },
  {
   "cell_type": "code",
   "execution_count": null,
   "metadata": {},
   "outputs": [],
   "source": []
  }
 ],
 "metadata": {
  "kernelspec": {
   "display_name": "erdos_fall_2024",
   "language": "python",
   "name": "python3"
  },
  "language_info": {
   "codemirror_mode": {
    "name": "ipython",
    "version": 3
   },
   "file_extension": ".py",
   "mimetype": "text/x-python",
   "name": "python",
   "nbconvert_exporter": "python",
   "pygments_lexer": "ipython3",
   "version": "3.12.5"
  }
 },
 "nbformat": 4,
 "nbformat_minor": 2
}
